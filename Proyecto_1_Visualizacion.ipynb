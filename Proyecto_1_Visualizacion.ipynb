{
  "nbformat": 4,
  "nbformat_minor": 0,
  "metadata": {
    "colab": {
      "name": "Proyecto 1. Visualizacion",
      "provenance": []
    },
    "kernelspec": {
      "name": "python3",
      "display_name": "Python 3"
    },
    "language_info": {
      "name": "python"
    }
  },
  "cells": [
    {
      "cell_type": "markdown",
      "source": [
        "# **Proyecto 1**\n",
        "\n",
        "> Visualizacion de Datos\n",
        "\n",
        ">Daniela Alexandra Herrera Fandiño\n",
        "\n",
        ">Marzo 2022\n"
      ],
      "metadata": {
        "id": "yXfLULXyAdTG"
      }
    },
    {
      "cell_type": "markdown",
      "source": [
        "***Salud Mental***\n",
        "\n",
        "La siguiente base corresponde a diferentes enfermedades de desorden mental presentes en diversos paises a nivel mundial, dichas mediciones presentan registros desde el año 1990 a 2007, asi mismo se proporcionan estos datos respecto a las edades, presentandolos por intervalos de edades presentes desde los 10 años de edad."
      ],
      "metadata": {
        "id": "yFOk0H5ze8dT"
      }
    },
    {
      "cell_type": "code",
      "source": [
        "! pip install altair vega_datasets"
      ],
      "metadata": {
        "colab": {
          "base_uri": "https://localhost:8080/"
        },
        "id": "ZWjedaeCTGxG",
        "outputId": "0f7b503a-9cc5-4d0f-adbc-e46edda70f79"
      },
      "execution_count": 2,
      "outputs": [
        {
          "output_type": "stream",
          "name": "stdout",
          "text": [
            "Requirement already satisfied: altair in /usr/local/lib/python3.7/dist-packages (4.2.0)\n",
            "Requirement already satisfied: vega_datasets in /usr/local/lib/python3.7/dist-packages (0.9.0)\n",
            "Requirement already satisfied: toolz in /usr/local/lib/python3.7/dist-packages (from altair) (0.11.2)\n",
            "Requirement already satisfied: entrypoints in /usr/local/lib/python3.7/dist-packages (from altair) (0.4)\n",
            "Requirement already satisfied: jinja2 in /usr/local/lib/python3.7/dist-packages (from altair) (2.11.3)\n",
            "Requirement already satisfied: numpy in /usr/local/lib/python3.7/dist-packages (from altair) (1.21.5)\n",
            "Requirement already satisfied: pandas>=0.18 in /usr/local/lib/python3.7/dist-packages (from altair) (1.3.5)\n",
            "Requirement already satisfied: jsonschema>=3.0 in /usr/local/lib/python3.7/dist-packages (from altair) (4.3.3)\n",
            "Requirement already satisfied: importlib-resources>=1.4.0 in /usr/local/lib/python3.7/dist-packages (from jsonschema>=3.0->altair) (5.4.0)\n",
            "Requirement already satisfied: typing-extensions in /usr/local/lib/python3.7/dist-packages (from jsonschema>=3.0->altair) (3.10.0.2)\n",
            "Requirement already satisfied: pyrsistent!=0.17.0,!=0.17.1,!=0.17.2,>=0.14.0 in /usr/local/lib/python3.7/dist-packages (from jsonschema>=3.0->altair) (0.18.1)\n",
            "Requirement already satisfied: importlib-metadata in /usr/local/lib/python3.7/dist-packages (from jsonschema>=3.0->altair) (4.11.2)\n",
            "Requirement already satisfied: attrs>=17.4.0 in /usr/local/lib/python3.7/dist-packages (from jsonschema>=3.0->altair) (21.4.0)\n",
            "Requirement already satisfied: zipp>=3.1.0 in /usr/local/lib/python3.7/dist-packages (from importlib-resources>=1.4.0->jsonschema>=3.0->altair) (3.7.0)\n",
            "Requirement already satisfied: python-dateutil>=2.7.3 in /usr/local/lib/python3.7/dist-packages (from pandas>=0.18->altair) (2.8.2)\n",
            "Requirement already satisfied: pytz>=2017.3 in /usr/local/lib/python3.7/dist-packages (from pandas>=0.18->altair) (2018.9)\n",
            "Requirement already satisfied: six>=1.5 in /usr/local/lib/python3.7/dist-packages (from python-dateutil>=2.7.3->pandas>=0.18->altair) (1.15.0)\n",
            "Requirement already satisfied: MarkupSafe>=0.23 in /usr/local/lib/python3.7/dist-packages (from jinja2->altair) (2.0.1)\n"
          ]
        }
      ]
    },
    {
      "cell_type": "code",
      "source": [
        "import pandas as pd\n",
        "import numpy as np\n",
        "import seaborn as sns\n",
        "import matplotlib as plt\n",
        "import matplotlib.pyplot as plt\n",
        "import altair as alt\n",
        "from vega_datasets import data"
      ],
      "metadata": {
        "id": "WtNj9LPkTsic"
      },
      "execution_count": 3,
      "outputs": []
    },
    {
      "cell_type": "code",
      "source": [
        "pd.set_option('display.max_columns', None) #Mostrar todas las columnas\n",
        "sns.set(rc={'figure.figsize':(12.7,8.6)})"
      ],
      "metadata": {
        "id": "jR6c9hvvT8hS"
      },
      "execution_count": 4,
      "outputs": []
    },
    {
      "cell_type": "code",
      "source": [
        "from google.colab import files\n",
        "files.upload()"
      ],
      "metadata": {
        "id": "2t-5szgXZ3xs"
      },
      "execution_count": null,
      "outputs": []
    },
    {
      "cell_type": "code",
      "source": [
        "from google.colab import drive\n",
        "drive.mount('/content/drive')"
      ],
      "metadata": {
        "colab": {
          "base_uri": "https://localhost:8080/"
        },
        "id": "oQH8vu8SUC47",
        "outputId": "d6ffcd34-937d-413f-f821-76be1f13d028"
      },
      "execution_count": 5,
      "outputs": [
        {
          "output_type": "stream",
          "name": "stdout",
          "text": [
            "Mounted at /content/drive\n"
          ]
        }
      ]
    },
    {
      "cell_type": "markdown",
      "source": [
        "# Primera visualizacion"
      ],
      "metadata": {
        "id": "P1Qbt7vNih1q"
      }
    },
    {
      "cell_type": "markdown",
      "source": [
        "***¿QUE?***\n",
        "\n",
        ">A partir de esta primera visualizacion se observa un *dataset* de tipo  *tabla* y estatico con variables categoricas como el pais (\"Entity\") y año (\"Year\"),paralelo a una atributo cuantitativo como la edad,de los cuales se hara inferencia apartir del grafico propuesto para este estudio de los diferentes trastornos de afectacion mental.\n",
        "\n",
        "***¿POR QUE?***\n",
        "\n",
        ">El scatterplot presentado a continuacion, permite *identificar* la prevalencia de *tendencia* en cuanto a las diferentes enfermedades registradas en un periodo de tiempo asi como lss observaciones dadas en los respectivos rangos de edad. "
      ],
      "metadata": {
        "id": "gGtmW-IVoyCL"
      }
    },
    {
      "cell_type": "markdown",
      "source": [
        "**Marcas y Canales**\n",
        "\n",
        ">Marca de puntos\n",
        "\n",
        ">Canal de posición espacial, tanto\n",
        "vertical como horizontal.\n",
        "\n",
        ">Canal de color para  atributo\n",
        "categórico como pais.\n",
        "\n",
        ">Marca de línea\n",
        "\n",
        "> Canal de posición espacial vertical\n"
      ],
      "metadata": {
        "id": "QaNLa6VugjCa"
      }
    },
    {
      "cell_type": "code",
      "source": [
        "df_mh = pd.read_excel('/content/drive/MyDrive/Visualizacion/Mental health Depression disorder Data.xlsx',\n",
        "                       dtype={ \n",
        "                     'Entity': str      \n",
        "                 }, sheet_name = \"prevalence-of-depression-by-age\")\n",
        "df_mh.head()"
      ],
      "metadata": {
        "colab": {
          "base_uri": "https://localhost:8080/",
          "height": 285
        },
        "id": "3myzqtppe_ws",
        "outputId": "1414016d-9116-4e43-c41b-b6251df30e2a"
      },
      "execution_count": 6,
      "outputs": [
        {
          "output_type": "execute_result",
          "data": {
            "text/html": [
              "\n",
              "  <div id=\"df-f6320c16-4699-4af5-bb7b-985de19040a3\">\n",
              "    <div class=\"colab-df-container\">\n",
              "      <div>\n",
              "<style scoped>\n",
              "    .dataframe tbody tr th:only-of-type {\n",
              "        vertical-align: middle;\n",
              "    }\n",
              "\n",
              "    .dataframe tbody tr th {\n",
              "        vertical-align: top;\n",
              "    }\n",
              "\n",
              "    .dataframe thead th {\n",
              "        text-align: right;\n",
              "    }\n",
              "</style>\n",
              "<table border=\"1\" class=\"dataframe\">\n",
              "  <thead>\n",
              "    <tr style=\"text-align: right;\">\n",
              "      <th></th>\n",
              "      <th>Entity</th>\n",
              "      <th>Code</th>\n",
              "      <th>Year</th>\n",
              "      <th>20-24 years old (%)</th>\n",
              "      <th>10-14 years old (%)</th>\n",
              "      <th>All ages (%)</th>\n",
              "      <th>70+ years old (%)</th>\n",
              "      <th>30-34 years old (%)</th>\n",
              "      <th>15-19 years old (%)</th>\n",
              "      <th>25-29 years old (%)</th>\n",
              "      <th>50-69 years old (%)</th>\n",
              "      <th>Age-standardized (%)</th>\n",
              "      <th>15-49 years old (%)</th>\n",
              "    </tr>\n",
              "  </thead>\n",
              "  <tbody>\n",
              "    <tr>\n",
              "      <th>0</th>\n",
              "      <td>Afghanistan</td>\n",
              "      <td>AFG</td>\n",
              "      <td>1990.0</td>\n",
              "      <td>4.417802</td>\n",
              "      <td>1.594676</td>\n",
              "      <td>3.218871</td>\n",
              "      <td>5.202803</td>\n",
              "      <td>5.799034</td>\n",
              "      <td>3.455708</td>\n",
              "      <td>5.175856</td>\n",
              "      <td>5.917752</td>\n",
              "      <td>4.071831</td>\n",
              "      <td>4.939766</td>\n",
              "    </tr>\n",
              "    <tr>\n",
              "      <th>1</th>\n",
              "      <td>Afghanistan</td>\n",
              "      <td>AFG</td>\n",
              "      <td>1991.0</td>\n",
              "      <td>4.433524</td>\n",
              "      <td>1.588356</td>\n",
              "      <td>3.203468</td>\n",
              "      <td>5.192849</td>\n",
              "      <td>5.814828</td>\n",
              "      <td>3.451880</td>\n",
              "      <td>5.176729</td>\n",
              "      <td>5.927093</td>\n",
              "      <td>4.079531</td>\n",
              "      <td>4.902682</td>\n",
              "    </tr>\n",
              "    <tr>\n",
              "      <th>2</th>\n",
              "      <td>Afghanistan</td>\n",
              "      <td>AFG</td>\n",
              "      <td>1992.0</td>\n",
              "      <td>4.453689</td>\n",
              "      <td>1.577980</td>\n",
              "      <td>3.156559</td>\n",
              "      <td>5.176872</td>\n",
              "      <td>5.829745</td>\n",
              "      <td>3.434982</td>\n",
              "      <td>5.160249</td>\n",
              "      <td>5.945656</td>\n",
              "      <td>4.088358</td>\n",
              "      <td>4.837097</td>\n",
              "    </tr>\n",
              "    <tr>\n",
              "      <th>3</th>\n",
              "      <td>Afghanistan</td>\n",
              "      <td>AFG</td>\n",
              "      <td>1993.0</td>\n",
              "      <td>4.464517</td>\n",
              "      <td>1.577201</td>\n",
              "      <td>3.120655</td>\n",
              "      <td>5.167355</td>\n",
              "      <td>5.853060</td>\n",
              "      <td>3.420210</td>\n",
              "      <td>5.148767</td>\n",
              "      <td>5.966915</td>\n",
              "      <td>4.096190</td>\n",
              "      <td>4.813657</td>\n",
              "    </tr>\n",
              "    <tr>\n",
              "      <th>4</th>\n",
              "      <td>Afghanistan</td>\n",
              "      <td>AFG</td>\n",
              "      <td>1994.0</td>\n",
              "      <td>4.462960</td>\n",
              "      <td>1.570846</td>\n",
              "      <td>3.082179</td>\n",
              "      <td>5.157549</td>\n",
              "      <td>5.852851</td>\n",
              "      <td>3.425222</td>\n",
              "      <td>5.148227</td>\n",
              "      <td>5.975907</td>\n",
              "      <td>4.099582</td>\n",
              "      <td>4.839340</td>\n",
              "    </tr>\n",
              "  </tbody>\n",
              "</table>\n",
              "</div>\n",
              "      <button class=\"colab-df-convert\" onclick=\"convertToInteractive('df-f6320c16-4699-4af5-bb7b-985de19040a3')\"\n",
              "              title=\"Convert this dataframe to an interactive table.\"\n",
              "              style=\"display:none;\">\n",
              "        \n",
              "  <svg xmlns=\"http://www.w3.org/2000/svg\" height=\"24px\"viewBox=\"0 0 24 24\"\n",
              "       width=\"24px\">\n",
              "    <path d=\"M0 0h24v24H0V0z\" fill=\"none\"/>\n",
              "    <path d=\"M18.56 5.44l.94 2.06.94-2.06 2.06-.94-2.06-.94-.94-2.06-.94 2.06-2.06.94zm-11 1L8.5 8.5l.94-2.06 2.06-.94-2.06-.94L8.5 2.5l-.94 2.06-2.06.94zm10 10l.94 2.06.94-2.06 2.06-.94-2.06-.94-.94-2.06-.94 2.06-2.06.94z\"/><path d=\"M17.41 7.96l-1.37-1.37c-.4-.4-.92-.59-1.43-.59-.52 0-1.04.2-1.43.59L10.3 9.45l-7.72 7.72c-.78.78-.78 2.05 0 2.83L4 21.41c.39.39.9.59 1.41.59.51 0 1.02-.2 1.41-.59l7.78-7.78 2.81-2.81c.8-.78.8-2.07 0-2.86zM5.41 20L4 18.59l7.72-7.72 1.47 1.35L5.41 20z\"/>\n",
              "  </svg>\n",
              "      </button>\n",
              "      \n",
              "  <style>\n",
              "    .colab-df-container {\n",
              "      display:flex;\n",
              "      flex-wrap:wrap;\n",
              "      gap: 12px;\n",
              "    }\n",
              "\n",
              "    .colab-df-convert {\n",
              "      background-color: #E8F0FE;\n",
              "      border: none;\n",
              "      border-radius: 50%;\n",
              "      cursor: pointer;\n",
              "      display: none;\n",
              "      fill: #1967D2;\n",
              "      height: 32px;\n",
              "      padding: 0 0 0 0;\n",
              "      width: 32px;\n",
              "    }\n",
              "\n",
              "    .colab-df-convert:hover {\n",
              "      background-color: #E2EBFA;\n",
              "      box-shadow: 0px 1px 2px rgba(60, 64, 67, 0.3), 0px 1px 3px 1px rgba(60, 64, 67, 0.15);\n",
              "      fill: #174EA6;\n",
              "    }\n",
              "\n",
              "    [theme=dark] .colab-df-convert {\n",
              "      background-color: #3B4455;\n",
              "      fill: #D2E3FC;\n",
              "    }\n",
              "\n",
              "    [theme=dark] .colab-df-convert:hover {\n",
              "      background-color: #434B5C;\n",
              "      box-shadow: 0px 1px 3px 1px rgba(0, 0, 0, 0.15);\n",
              "      filter: drop-shadow(0px 1px 2px rgba(0, 0, 0, 0.3));\n",
              "      fill: #FFFFFF;\n",
              "    }\n",
              "  </style>\n",
              "\n",
              "      <script>\n",
              "        const buttonEl =\n",
              "          document.querySelector('#df-f6320c16-4699-4af5-bb7b-985de19040a3 button.colab-df-convert');\n",
              "        buttonEl.style.display =\n",
              "          google.colab.kernel.accessAllowed ? 'block' : 'none';\n",
              "\n",
              "        async function convertToInteractive(key) {\n",
              "          const element = document.querySelector('#df-f6320c16-4699-4af5-bb7b-985de19040a3');\n",
              "          const dataTable =\n",
              "            await google.colab.kernel.invokeFunction('convertToInteractive',\n",
              "                                                     [key], {});\n",
              "          if (!dataTable) return;\n",
              "\n",
              "          const docLinkHtml = 'Like what you see? Visit the ' +\n",
              "            '<a target=\"_blank\" href=https://colab.research.google.com/notebooks/data_table.ipynb>data table notebook</a>'\n",
              "            + ' to learn more about interactive tables.';\n",
              "          element.innerHTML = '';\n",
              "          dataTable['output_type'] = 'display_data';\n",
              "          await google.colab.output.renderOutput(dataTable, element);\n",
              "          const docLink = document.createElement('div');\n",
              "          docLink.innerHTML = docLinkHtml;\n",
              "          element.appendChild(docLink);\n",
              "        }\n",
              "      </script>\n",
              "    </div>\n",
              "  </div>\n",
              "  "
            ],
            "text/plain": [
              "        Entity Code    Year  20-24 years old (%)  10-14 years old (%)  \\\n",
              "0  Afghanistan  AFG  1990.0             4.417802             1.594676   \n",
              "1  Afghanistan  AFG  1991.0             4.433524             1.588356   \n",
              "2  Afghanistan  AFG  1992.0             4.453689             1.577980   \n",
              "3  Afghanistan  AFG  1993.0             4.464517             1.577201   \n",
              "4  Afghanistan  AFG  1994.0             4.462960             1.570846   \n",
              "\n",
              "   All ages (%)  70+ years old (%)  30-34 years old (%)  15-19 years old (%)  \\\n",
              "0      3.218871           5.202803             5.799034             3.455708   \n",
              "1      3.203468           5.192849             5.814828             3.451880   \n",
              "2      3.156559           5.176872             5.829745             3.434982   \n",
              "3      3.120655           5.167355             5.853060             3.420210   \n",
              "4      3.082179           5.157549             5.852851             3.425222   \n",
              "\n",
              "   25-29 years old (%)  50-69 years old (%)  Age-standardized (%)  \\\n",
              "0             5.175856             5.917752              4.071831   \n",
              "1             5.176729             5.927093              4.079531   \n",
              "2             5.160249             5.945656              4.088358   \n",
              "3             5.148767             5.966915              4.096190   \n",
              "4             5.148227             5.975907              4.099582   \n",
              "\n",
              "   15-49 years old (%)  \n",
              "0             4.939766  \n",
              "1             4.902682  \n",
              "2             4.837097  \n",
              "3             4.813657  \n",
              "4             4.839340  "
            ]
          },
          "metadata": {},
          "execution_count": 6
        }
      ]
    },
    {
      "cell_type": "code",
      "source": [
        "df_mh.dtypes"
      ],
      "metadata": {
        "colab": {
          "base_uri": "https://localhost:8080/"
        },
        "id": "K7wXC09ApEBj",
        "outputId": "08b9ea74-afb8-4f59-de82-3e2ad5c485cb"
      },
      "execution_count": 7,
      "outputs": [
        {
          "output_type": "execute_result",
          "data": {
            "text/plain": [
              "Entity                   object\n",
              "Code                     object\n",
              "Year                    float64\n",
              "20-24 years old (%)     float64\n",
              "10-14 years old (%)     float64\n",
              "All ages (%)            float64\n",
              "70+ years old (%)       float64\n",
              "30-34 years old (%)     float64\n",
              "15-19 years old (%)     float64\n",
              "25-29 years old (%)     float64\n",
              "50-69 years old (%)     float64\n",
              "Age-standardized (%)    float64\n",
              "15-49 years old (%)     float64\n",
              "dtype: object"
            ]
          },
          "metadata": {},
          "execution_count": 7
        }
      ]
    },
    {
      "cell_type": "code",
      "source": [
        "df_mh_edades = df_mh[df_mh[\"Code\"]==\"KOR\"]\n",
        "df_mh_edades2 = df_mh_edades.iloc[:,[1,2,4,8,3,9,7]]\n",
        "\n",
        "sns.pairplot(df_mh_edades2,\n",
        "             corner = True)"
      ],
      "metadata": {
        "colab": {
          "base_uri": "https://localhost:8080/",
          "height": 1000
        },
        "id": "G3SCFH-0onyx",
        "outputId": "ab639b94-0e3d-4799-b958-da44aefca19d"
      },
      "execution_count": 8,
      "outputs": [
        {
          "output_type": "execute_result",
          "data": {
            "text/plain": [
              "<seaborn.axisgrid.PairGrid at 0x7fabcdb0c0d0>"
            ]
          },
          "metadata": {},
          "execution_count": 8
        },
        {
          "output_type": "display_data",
          "data": {
            "image/png": "[encoded data removed]",
            "text/plain": [
              "<Figure size 1080x1080 with 27 Axes>"
            ]
          },
          "metadata": {}
        }
      ]
    },
    {
      "cell_type": "markdown",
      "source": [
        "# Segunda Visualizacion"
      ],
      "metadata": {
        "id": "b3jYpf7RnYpg"
      }
    },
    {
      "cell_type": "markdown",
      "source": [
        "***¿QUE?***\n",
        ">Para esta visualizacion se presentan datos *espaciales* con variables categorica, referente a los años, y cuantitativa respecto a los trastornos presentados\n",
        "\n",
        "***¿POR QUE?***\n",
        ">A partir de esta grafica se permite realizar una *comparacion* de las diferentes enfermedades, en un rango de edad general, para esclarecer primordialmente el comportamiento que presentan estos cuatro paises(Alemania, Hungria, Corea del Norte y Australia) en un periodo de tiempo comprendido entre 1990 y 2015\n"
      ],
      "metadata": {
        "id": "UE0nromZmdSR"
      }
    },
    {
      "cell_type": "markdown",
      "source": [
        "**Marcas y Canales**\n",
        ">Marcas de puntos\n",
        "\n",
        ">Canal de posición espacial horizontal\n",
        "para determinar el comportamiento a lo largo de un periodo de tiempo\n",
        "\n",
        ">Canal de color para difenrenicar el atributo\n",
        "categórico de paises.\n"
      ],
      "metadata": {
        "id": "yYNgsKRjr-9_"
      }
    },
    {
      "cell_type": "code",
      "source": [
        "df_mh_countries = df_mh[(df_mh['Code'] == \"DEU\") | (df_mh['Code'] == \"KOR\") | (df_mh['Code'] == \"HUN\") | (df_mh['Code'] == \"AUT\")]\n",
        "df_mh_countries.head()"
      ],
      "metadata": {
        "colab": {
          "base_uri": "https://localhost:8080/",
          "height": 268
        },
        "id": "oZfbtAnhgt1-",
        "outputId": "49484934-5127-4e2b-a3bd-30a80bbc10c5"
      },
      "execution_count": null,
      "outputs": [
        {
          "output_type": "execute_result",
          "data": {
            "text/html": [
              "\n",
              "  <div id=\"df-7cca4b1c-1d5a-4073-ab11-b9701d002866\">\n",
              "    <div class=\"colab-df-container\">\n",
              "      <div>\n",
              "<style scoped>\n",
              "    .dataframe tbody tr th:only-of-type {\n",
              "        vertical-align: middle;\n",
              "    }\n",
              "\n",
              "    .dataframe tbody tr th {\n",
              "        vertical-align: top;\n",
              "    }\n",
              "\n",
              "    .dataframe thead th {\n",
              "        text-align: right;\n",
              "    }\n",
              "</style>\n",
              "<table border=\"1\" class=\"dataframe\">\n",
              "  <thead>\n",
              "    <tr style=\"text-align: right;\">\n",
              "      <th></th>\n",
              "      <th>Entity</th>\n",
              "      <th>Code</th>\n",
              "      <th>Year</th>\n",
              "      <th>Schizophrenia (%)</th>\n",
              "      <th>Bipolar disorder (%)</th>\n",
              "      <th>Eating disorders (%)</th>\n",
              "      <th>Anxiety disorders (%)</th>\n",
              "      <th>Drug use disorders (%)</th>\n",
              "      <th>Depression (%)</th>\n",
              "      <th>Alcohol use disorders (%)</th>\n",
              "    </tr>\n",
              "  </thead>\n",
              "  <tbody>\n",
              "    <tr>\n",
              "      <th>336</th>\n",
              "      <td>Austria</td>\n",
              "      <td>AUT</td>\n",
              "      <td>1990.0</td>\n",
              "      <td>0.255762</td>\n",
              "      <td>0.945389</td>\n",
              "      <td>0.538327</td>\n",
              "      <td>5.357604</td>\n",
              "      <td>0.790297</td>\n",
              "      <td>3.606204</td>\n",
              "      <td>1.709916</td>\n",
              "    </tr>\n",
              "    <tr>\n",
              "      <th>337</th>\n",
              "      <td>Austria</td>\n",
              "      <td>AUT</td>\n",
              "      <td>1991.0</td>\n",
              "      <td>0.255935</td>\n",
              "      <td>0.945485</td>\n",
              "      <td>0.544497</td>\n",
              "      <td>5.356666</td>\n",
              "      <td>0.792971</td>\n",
              "      <td>3.615811</td>\n",
              "      <td>1.714560</td>\n",
              "    </tr>\n",
              "    <tr>\n",
              "      <th>338</th>\n",
              "      <td>Austria</td>\n",
              "      <td>AUT</td>\n",
              "      <td>1992.0</td>\n",
              "      <td>0.256090</td>\n",
              "      <td>0.945641</td>\n",
              "      <td>0.551231</td>\n",
              "      <td>5.356393</td>\n",
              "      <td>0.796980</td>\n",
              "      <td>3.622927</td>\n",
              "      <td>1.721153</td>\n",
              "    </tr>\n",
              "    <tr>\n",
              "      <th>339</th>\n",
              "      <td>Austria</td>\n",
              "      <td>AUT</td>\n",
              "      <td>1993.0</td>\n",
              "      <td>0.256216</td>\n",
              "      <td>0.945819</td>\n",
              "      <td>0.558080</td>\n",
              "      <td>5.356464</td>\n",
              "      <td>0.800853</td>\n",
              "      <td>3.627022</td>\n",
              "      <td>1.729197</td>\n",
              "    </tr>\n",
              "    <tr>\n",
              "      <th>340</th>\n",
              "      <td>Austria</td>\n",
              "      <td>AUT</td>\n",
              "      <td>1994.0</td>\n",
              "      <td>0.256308</td>\n",
              "      <td>0.945990</td>\n",
              "      <td>0.564511</td>\n",
              "      <td>5.356490</td>\n",
              "      <td>0.803948</td>\n",
              "      <td>3.627884</td>\n",
              "      <td>1.738368</td>\n",
              "    </tr>\n",
              "  </tbody>\n",
              "</table>\n",
              "</div>\n",
              "      <button class=\"colab-df-convert\" onclick=\"convertToInteractive('df-7cca4b1c-1d5a-4073-ab11-b9701d002866')\"\n",
              "              title=\"Convert this dataframe to an interactive table.\"\n",
              "              style=\"display:none;\">\n",
              "        \n",
              "  <svg xmlns=\"http://www.w3.org/2000/svg\" height=\"24px\"viewBox=\"0 0 24 24\"\n",
              "       width=\"24px\">\n",
              "    <path d=\"M0 0h24v24H0V0z\" fill=\"none\"/>\n",
              "    <path d=\"M18.56 5.44l.94 2.06.94-2.06 2.06-.94-2.06-.94-.94-2.06-.94 2.06-2.06.94zm-11 1L8.5 8.5l.94-2.06 2.06-.94-2.06-.94L8.5 2.5l-.94 2.06-2.06.94zm10 10l.94 2.06.94-2.06 2.06-.94-2.06-.94-.94-2.06-.94 2.06-2.06.94z\"/><path d=\"M17.41 7.96l-1.37-1.37c-.4-.4-.92-.59-1.43-.59-.52 0-1.04.2-1.43.59L10.3 9.45l-7.72 7.72c-.78.78-.78 2.05 0 2.83L4 21.41c.39.39.9.59 1.41.59.51 0 1.02-.2 1.41-.59l7.78-7.78 2.81-2.81c.8-.78.8-2.07 0-2.86zM5.41 20L4 18.59l7.72-7.72 1.47 1.35L5.41 20z\"/>\n",
              "  </svg>\n",
              "      </button>\n",
              "      \n",
              "  <style>\n",
              "    .colab-df-container {\n",
              "      display:flex;\n",
              "      flex-wrap:wrap;\n",
              "      gap: 12px;\n",
              "    }\n",
              "\n",
              "    .colab-df-convert {\n",
              "      background-color: #E8F0FE;\n",
              "      border: none;\n",
              "      border-radius: 50%;\n",
              "      cursor: pointer;\n",
              "      display: none;\n",
              "      fill: #1967D2;\n",
              "      height: 32px;\n",
              "      padding: 0 0 0 0;\n",
              "      width: 32px;\n",
              "    }\n",
              "\n",
              "    .colab-df-convert:hover {\n",
              "      background-color: #E2EBFA;\n",
              "      box-shadow: 0px 1px 2px rgba(60, 64, 67, 0.3), 0px 1px 3px 1px rgba(60, 64, 67, 0.15);\n",
              "      fill: #174EA6;\n",
              "    }\n",
              "\n",
              "    [theme=dark] .colab-df-convert {\n",
              "      background-color: #3B4455;\n",
              "      fill: #D2E3FC;\n",
              "    }\n",
              "\n",
              "    [theme=dark] .colab-df-convert:hover {\n",
              "      background-color: #434B5C;\n",
              "      box-shadow: 0px 1px 3px 1px rgba(0, 0, 0, 0.15);\n",
              "      filter: drop-shadow(0px 1px 2px rgba(0, 0, 0, 0.3));\n",
              "      fill: #FFFFFF;\n",
              "    }\n",
              "  </style>\n",
              "\n",
              "      <script>\n",
              "        const buttonEl =\n",
              "          document.querySelector('#df-7cca4b1c-1d5a-4073-ab11-b9701d002866 button.colab-df-convert');\n",
              "        buttonEl.style.display =\n",
              "          google.colab.kernel.accessAllowed ? 'block' : 'none';\n",
              "\n",
              "        async function convertToInteractive(key) {\n",
              "          const element = document.querySelector('#df-7cca4b1c-1d5a-4073-ab11-b9701d002866');\n",
              "          const dataTable =\n",
              "            await google.colab.kernel.invokeFunction('convertToInteractive',\n",
              "                                                     [key], {});\n",
              "          if (!dataTable) return;\n",
              "\n",
              "          const docLinkHtml = 'Like what you see? Visit the ' +\n",
              "            '<a target=\"_blank\" href=https://colab.research.google.com/notebooks/data_table.ipynb>data table notebook</a>'\n",
              "            + ' to learn more about interactive tables.';\n",
              "          element.innerHTML = '';\n",
              "          dataTable['output_type'] = 'display_data';\n",
              "          await google.colab.output.renderOutput(dataTable, element);\n",
              "          const docLink = document.createElement('div');\n",
              "          docLink.innerHTML = docLinkHtml;\n",
              "          element.appendChild(docLink);\n",
              "        }\n",
              "      </script>\n",
              "    </div>\n",
              "  </div>\n",
              "  "
            ],
            "text/plain": [
              "      Entity Code    Year  Schizophrenia (%)  Bipolar disorder (%)  \\\n",
              "336  Austria  AUT  1990.0           0.255762              0.945389   \n",
              "337  Austria  AUT  1991.0           0.255935              0.945485   \n",
              "338  Austria  AUT  1992.0           0.256090              0.945641   \n",
              "339  Austria  AUT  1993.0           0.256216              0.945819   \n",
              "340  Austria  AUT  1994.0           0.256308              0.945990   \n",
              "\n",
              "     Eating disorders (%)  Anxiety disorders (%)  Drug use disorders (%)  \\\n",
              "336              0.538327               5.357604                0.790297   \n",
              "337              0.544497               5.356666                0.792971   \n",
              "338              0.551231               5.356393                0.796980   \n",
              "339              0.558080               5.356464                0.800853   \n",
              "340              0.564511               5.356490                0.803948   \n",
              "\n",
              "     Depression (%)  Alcohol use disorders (%)  \n",
              "336        3.606204                   1.709916  \n",
              "337        3.615811                   1.714560  \n",
              "338        3.622927                   1.721153  \n",
              "339        3.627022                   1.729197  \n",
              "340        3.627884                   1.738368  "
            ]
          },
          "metadata": {},
          "execution_count": 7
        }
      ]
    },
    {
      "cell_type": "code",
      "source": [
        "df_mh_countries = df_mh[(df_mh['Code'] == \"DEU\") | (df_mh['Code'] == \"KOR\") | (df_mh['Code'] == \"HUN\") | (df_mh['Code'] == \"AUT\")]\n",
        "sns.scatterplot(data=df_mh_countries,  x=\"Year\", y=\"All ages (%)\", hue = \"Code\")"
      ],
      "metadata": {
        "colab": {
          "base_uri": "https://localhost:8080/",
          "height": 552
        },
        "id": "o8sK6SE0qETb",
        "outputId": "f9c7bb8e-10c7-4ee4-b9eb-ac7b95611ae9"
      },
      "execution_count": 9,
      "outputs": [
        {
          "output_type": "execute_result",
          "data": {
            "text/plain": [
              "<matplotlib.axes._subplots.AxesSubplot at 0x7fabcdae6110>"
            ]
          },
          "metadata": {},
          "execution_count": 9
        },
        {
          "output_type": "display_data",
          "data": {
            "image/png": "[encoded data removed]",
            "text/plain": [
              "<Figure size 914.4x619.2 with 1 Axes>"
            ]
          },
          "metadata": {}
        }
      ]
    },
    {
      "cell_type": "markdown",
      "source": [
        "# Otras posibles visualizaciones que se contemplaron"
      ],
      "metadata": {
        "id": "YMY5ZK2Wtgrl"
      }
    },
    {
      "cell_type": "code",
      "source": [
        "#sns.barplot(data=df_mh_countries, estimator=sum, x=\"Bipolar disorder (%)\", y=\"Year\",\n",
        "#                hue = \"Code\") \n",
        "\n",
        "df_mh_countries2 = df_mh_countries[(df_mh_countries['Year'] == 1997) | \n",
        "                                     (df_mh_countries['Year'] == 2007) | \n",
        "                                     (df_mh_countries['Year'] == 2017)]\n",
        "\n",
        "\n",
        "\n",
        "\n",
        "bars = alt.Chart(df_mh_countries2).mark_bar().encode(\n",
        "    x=alt.X('Depression (%):Q',\n",
        "            stack = \"normalize\"),\n",
        "    y=alt.Y('Year:N'),\n",
        "    color=alt.Color('Code')\n",
        ")\n",
        "text = alt.Chart(df_mh_countries2).mark_text(dx=-5, dy=0, color='black',size = 8).encode(\n",
        "    x=alt.X('Depression (%):Q',\n",
        "            stack='normalize'),\n",
        "    y=alt.Y('Year:N'),\n",
        "    detail='Code:N',\n",
        "    text=alt.Text('Depression (%):Q', format='.1f')\n",
        ")\n",
        "chart = bars + text\n",
        "chart.properties(\n",
        "    width=600,\n",
        "    height=150\n",
        ")"
      ],
      "metadata": {
        "colab": {
          "base_uri": "https://localhost:8080/",
          "height": 213
        },
        "id": "TAbAYFOT8WOs",
        "outputId": "8fd85cb7-7f31-4c87-fcaa-ddd9df95878b"
      },
      "execution_count": null,
      "outputs": [
        {
          "output_type": "execute_result",
          "data": {
            "text/plain": [
              "alt.LayerChart(...)"
            ],
            "text/html": [
              "\n",
              "<div id=\"altair-viz-cd59d1f4863340f2a26afbf0243138a0\"></div>\n",
              "<script type=\"text/javascript\">\n",
              "  var VEGA_DEBUG = (typeof VEGA_DEBUG == \"undefined\") ? {} : VEGA_DEBUG;\n",
              "  (function(spec, embedOpt){\n",
              "    let outputDiv = document.currentScript.previousElementSibling;\n",
              "    if (outputDiv.id !== \"altair-viz-cd59d1f4863340f2a26afbf0243138a0\") {\n",
              "      outputDiv = document.getElementById(\"altair-viz-cd59d1f4863340f2a26afbf0243138a0\");\n",
              "    }\n",
              "    const paths = {\n",
              "      \"vega\": \"https://cdn.jsdelivr.net/npm//vega@5?noext\",\n",
              "      \"vega-lib\": \"https://cdn.jsdelivr.net/npm//vega-lib?noext\",\n",
              "      \"vega-lite\": \"https://cdn.jsdelivr.net/npm//vega-lite@4.17.0?noext\",\n",
              "      \"vega-embed\": \"https://cdn.jsdelivr.net/npm//vega-embed@6?noext\",\n",
              "    };\n",
              "\n",
              "    function maybeLoadScript(lib, version) {\n",
              "      var key = `${lib.replace(\"-\", \"\")}_version`;\n",
              "      return (VEGA_DEBUG[key] == version) ?\n",
              "        Promise.resolve(paths[lib]) :\n",
              "        new Promise(function(resolve, reject) {\n",
              "          var s = document.createElement('script');\n",
              "          document.getElementsByTagName(\"head\")[0].appendChild(s);\n",
              "          s.async = true;\n",
              "          s.onload = () => {\n",
              "            VEGA_DEBUG[key] = version;\n",
              "            return resolve(paths[lib]);\n",
              "          };\n",
              "          s.onerror = () => reject(`Error loading script: ${paths[lib]}`);\n",
              "          s.src = paths[lib];\n",
              "        });\n",
              "    }\n",
              "\n",
              "    function showError(err) {\n",
              "      outputDiv.innerHTML = `<div class=\"error\" style=\"color:red;\">${err}</div>`;\n",
              "      throw err;\n",
              "    }\n",
              "\n",
              "    function displayChart(vegaEmbed) {\n",
              "      vegaEmbed(outputDiv, spec, embedOpt)\n",
              "        .catch(err => showError(`Javascript Error: ${err.message}<br>This usually means there's a typo in your chart specification. See the javascript console for the full traceback.`));\n",
              "    }\n",
              "\n",
              "    if(typeof define === \"function\" && define.amd) {\n",
              "      requirejs.config({paths});\n",
              "      require([\"vega-embed\"], displayChart, err => showError(`Error loading script: ${err.message}`));\n",
              "    } else {\n",
              "      maybeLoadScript(\"vega\", \"5\")\n",
              "        .then(() => maybeLoadScript(\"vega-lite\", \"4.17.0\"))\n",
              "        .then(() => maybeLoadScript(\"vega-embed\", \"6\"))\n",
              "        .catch(showError)\n",
              "        .then(() => displayChart(vegaEmbed));\n",
              "    }\n",
              "  })({\"config\": {\"view\": {\"continuousWidth\": 400, \"continuousHeight\": 300}}, \"layer\": [{\"mark\": \"bar\", \"encoding\": {\"color\": {\"field\": \"Code\", \"type\": \"nominal\"}, \"x\": {\"field\": \"Depression (%)\", \"stack\": \"normalize\", \"type\": \"quantitative\"}, \"y\": {\"field\": \"Year\", \"type\": \"nominal\"}}}, {\"mark\": {\"type\": \"text\", \"color\": \"black\", \"dx\": -5, \"dy\": 0, \"size\": 8}, \"encoding\": {\"detail\": {\"field\": \"Code\", \"type\": \"nominal\"}, \"text\": {\"field\": \"Depression (%)\", \"format\": \".1f\", \"type\": \"quantitative\"}, \"x\": {\"field\": \"Depression (%)\", \"stack\": \"normalize\", \"type\": \"quantitative\"}, \"y\": {\"field\": \"Year\", \"type\": \"nominal\"}}}], \"data\": {\"name\": \"data-30b905e7eddc98adc6239fd2d78c1fa8\"}, \"height\": 150, \"width\": 600, \"$schema\": \"https://vega.github.io/schema/vega-lite/v4.17.0.json\", \"datasets\": {\"data-30b905e7eddc98adc6239fd2d78c1fa8\": [{\"Entity\": \"Austria\", \"Code\": \"AUT\", \"Year\": 1997.0, \"Schizophrenia (%)\": 0.256410730549, \"Bipolar disorder (%)\": 0.946716710252, \"Eating disorders (%)\": 0.586002516296, \"Anxiety disorders (%)\": 5.3589617175, \"Drug use disorders (%)\": 0.822941033748, \"Depression (%)\": 3.58156174351, \"Alcohol use disorders (%)\": 1.80353816887999}, {\"Entity\": \"Austria\", \"Code\": \"AUT\", \"Year\": 2007.0, \"Schizophrenia (%)\": 0.256439933206, \"Bipolar disorder (%)\": 0.940089897318, \"Eating disorders (%)\": 0.651669562698, \"Anxiety disorders (%)\": 5.35486045617, \"Drug use disorders (%)\": 0.895081943826, \"Depression (%)\": 3.3279384575, \"Alcohol use disorders (%)\": 1.94523684993}, {\"Entity\": \"Austria\", \"Code\": \"AUT\", \"Year\": 2017.0, \"Schizophrenia (%)\": 0.256957852233, \"Bipolar disorder (%)\": 0.93979417437, \"Eating disorders (%)\": 0.675111961603, \"Anxiety disorders (%)\": 5.34127539525, \"Drug use disorders (%)\": 0.902116974356, \"Depression (%)\": 3.2609699942, \"Alcohol use disorders (%)\": 1.82406509366}, {\"Entity\": \"Germany\", \"Code\": \"DEU\", \"Year\": 1997.0, \"Schizophrenia (%)\": 0.252516138267, \"Bipolar disorder (%)\": 0.770266276653, \"Eating disorders (%)\": 0.481372879175, \"Anxiety disorders (%)\": 6.78258100442, \"Drug use disorders (%)\": 0.771769659419, \"Depression (%)\": 3.85715880087999, \"Alcohol use disorders (%)\": 2.1599818337}, {\"Entity\": \"Germany\", \"Code\": \"DEU\", \"Year\": 2007.0, \"Schizophrenia (%)\": 0.252066900253, \"Bipolar disorder (%)\": 0.777668444032, \"Eating disorders (%)\": 0.505553617179, \"Anxiety disorders (%)\": 6.54204195596, \"Drug use disorders (%)\": 0.884382876388999, \"Depression (%)\": 3.93145352507, \"Alcohol use disorders (%)\": 2.00410362673}, {\"Entity\": \"Germany\", \"Code\": \"DEU\", \"Year\": 2017.0, \"Schizophrenia (%)\": 0.252269313545, \"Bipolar disorder (%)\": 0.776761886254, \"Eating disorders (%)\": 0.522066337436999, \"Anxiety disorders (%)\": 6.5404958034, \"Drug use disorders (%)\": 0.883827049960999, \"Depression (%)\": 3.95986609184, \"Alcohol use disorders (%)\": 1.80647468292}, {\"Entity\": \"Hungary\", \"Code\": \"HUN\", \"Year\": 1997.0, \"Schizophrenia (%)\": 0.200577781158, \"Bipolar disorder (%)\": 0.698685772199, \"Eating disorders (%)\": 0.198997583925, \"Anxiety disorders (%)\": 3.44012361982, \"Drug use disorders (%)\": 0.64704473681, \"Depression (%)\": 3.13943192102999, \"Alcohol use disorders (%)\": 2.48444634552}, {\"Entity\": \"Hungary\", \"Code\": \"HUN\", \"Year\": 2007.0, \"Schizophrenia (%)\": 0.203271828528, \"Bipolar disorder (%)\": 0.700956004824, \"Eating disorders (%)\": 0.220837293720999, \"Anxiety disorders (%)\": 3.45985223527999, \"Drug use disorders (%)\": 0.701395856334, \"Depression (%)\": 2.81320530285, \"Alcohol use disorders (%)\": 2.243461081}, {\"Entity\": \"Hungary\", \"Code\": \"HUN\", \"Year\": 2017.0, \"Schizophrenia (%)\": 0.205524223022, \"Bipolar disorder (%)\": 0.703435450686, \"Eating disorders (%)\": 0.237686389914, \"Anxiety disorders (%)\": 3.45465662542999, \"Drug use disorders (%)\": 0.699141710736, \"Depression (%)\": 2.76524217857, \"Alcohol use disorders (%)\": 2.10739359606}, {\"Entity\": \"South Korea\", \"Code\": \"KOR\", \"Year\": 1997.0, \"Schizophrenia (%)\": 0.256015491648, \"Bipolar disorder (%)\": 0.561830700128, \"Eating disorders (%)\": 0.330895987701999, \"Anxiety disorders (%)\": 3.7982089224, \"Drug use disorders (%)\": 0.853331142379, \"Depression (%)\": 2.83695758742, \"Alcohol use disorders (%)\": 2.07583127427}, {\"Entity\": \"South Korea\", \"Code\": \"KOR\", \"Year\": 2007.0, \"Schizophrenia (%)\": 0.261911489931, \"Bipolar disorder (%)\": 0.568977838053, \"Eating disorders (%)\": 0.379405326855, \"Anxiety disorders (%)\": 3.76126985391999, \"Drug use disorders (%)\": 0.876826957547999, \"Depression (%)\": 2.89927584253, \"Alcohol use disorders (%)\": 2.12276216224}, {\"Entity\": \"South Korea\", \"Code\": \"KOR\", \"Year\": 2017.0, \"Schizophrenia (%)\": 0.26399359864, \"Bipolar disorder (%)\": 0.56945933099, \"Eating disorders (%)\": 0.417103482124, \"Anxiety disorders (%)\": 3.77800454814, \"Drug use disorders (%)\": 0.914318689844, \"Depression (%)\": 3.1656839582, \"Alcohol use disorders (%)\": 2.02005012729}]}}, {\"mode\": \"vega-lite\"});\n",
              "</script>"
            ]
          },
          "metadata": {},
          "execution_count": 15
        }
      ]
    },
    {
      "cell_type": "code",
      "source": [
        "df_mh2 = df_mh_countries[(df_mh_countries[\"Year\"] == 2000.0) |\n",
        "                         (df_mh_countries[\"Year\"] == 2010.0) |\n",
        "                         (df_mh_countries[\"Year\"] == 2017.0)]\n",
        "\n",
        "sns.barplot(data = df_mh2,\n",
        "            # estimator = sum,\n",
        "            x = \"Year\", \n",
        "            y = \"Schizophrenia (%)\",\n",
        "            hue = \"Code\",\n",
        "            ci = None)"
      ],
      "metadata": {
        "id": "o3AGbqcdIfCH",
        "colab": {
          "base_uri": "https://localhost:8080/",
          "height": 553
        },
        "outputId": "27fb021b-3c5f-49de-9916-a97b5e7e58b2"
      },
      "execution_count": null,
      "outputs": [
        {
          "output_type": "execute_result",
          "data": {
            "text/plain": [
              "<matplotlib.axes._subplots.AxesSubplot at 0x7f866b882b90>"
            ]
          },
          "metadata": {},
          "execution_count": 30
        },
        {
          "output_type": "display_data",
          "data": {
            "image/png": "[encoded data removed]",
            "text/plain": [
              "<Figure size 914.4x619.2 with 1 Axes>"
            ]
          },
          "metadata": {}
        }
      ]
    },
    {
      "cell_type": "markdown",
      "source": [
        "***Referencias***\n",
        "\n",
        "Recuperado de: \n",
        " https://data.world/vizzup/mental-health-depression-disorder-data/workspace/file?filename=Mental+health+Depression+disorder+Data.xlsx"
      ],
      "metadata": {
        "id": "kHc51E94qY6y"
      }
    }
  ]
}